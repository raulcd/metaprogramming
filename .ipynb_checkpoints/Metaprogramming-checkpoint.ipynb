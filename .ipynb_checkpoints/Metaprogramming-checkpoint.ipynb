{
 "cells": [
  {
   "cell_type": "markdown",
   "metadata": {
    "slideshow": {
     "slide_type": "slide"
    }
   },
   "source": [
    "# Metaprogramación en Python\n",
    "* **Raúl Cumplido**\n",
    "* **@raulcumplido**\n",
    "* **Europython 2015 - Bilbao**\n",
    "\n",
    "![caption](te_chie_la.png)"
   ]
  },
  {
   "cell_type": "markdown",
   "metadata": {
    "slideshow": {
     "slide_type": "slide"
    }
   },
   "source": [
    "# Requisitos\n",
    "\n",
    "* **Python 3.4**"
   ]
  },
  {
   "cell_type": "markdown",
   "metadata": {
    "slideshow": {
     "slide_type": "slide"
    }
   },
   "source": [
    "# Introducción\n",
    "## Qué es la metaprogramación?\n",
    "* **Básicamente código que manipula código**\n",
    "* **Ejemplos**:\n",
    " * Decorators\n",
    " * Metaclasses\n",
    " * Descriptors\n",
    " * AST\n",
    " * exec\n"
   ]
  },
  {
   "cell_type": "markdown",
   "metadata": {
    "slideshow": {
     "slide_type": "slide"
    }
   },
   "source": [
    "# Por qué?\n",
    "* **Extensivamente utilizado en frameworks y librerías**\n",
    "* **Mejor conocimiento de Python**\n",
    "* **Es divertido**\n",
    "* **DRY**\n",
    " * Código repetido no mola\n",
    " * Difícil de leer/escribir/modificar"
   ]
  },
  {
   "cell_type": "markdown",
   "metadata": {
    "slideshow": {
     "slide_type": "slide"
    }
   },
   "source": [
    "![caption](calentamiento.png)"
   ]
  },
  {
   "cell_type": "markdown",
   "metadata": {
    "slideshow": {
     "slide_type": "subslide"
    }
   },
   "source": [
    "# Python basics\n",
    "* **Todo es un objeto en Python**\n",
    "* **Modulos, clases, funciones, tipos básicos**\n",
    "* **Se pueden asignar a variables**\n",
    "* **Se pueden manipular**\n",
    "* **Los objetos tienen métodos mágicos**\n",
    " * \\__qualname\\__, \\__new____, ..."
   ]
  },
  {
   "cell_type": "code",
   "execution_count": 7,
   "metadata": {
    "collapsed": false,
    "slideshow": {
     "slide_type": "fragment"
    }
   },
   "outputs": [
    {
     "name": "stdout",
     "output_type": "stream",
     "text": [
      "<class 'int'>\n"
     ]
    },
    {
     "data": {
      "text/plain": [
       "1"
      ]
     },
     "execution_count": 7,
     "metadata": {},
     "output_type": "execute_result"
    }
   ],
   "source": [
    "a = int\n",
    "print(a)\n",
    "a(1)"
   ]
  },
  {
   "cell_type": "code",
   "execution_count": 2,
   "metadata": {
    "collapsed": false,
    "slideshow": {
     "slide_type": "subslide"
    }
   },
   "outputs": [
    {
     "data": {
      "text/plain": [
       "3"
      ]
     },
     "execution_count": 2,
     "metadata": {},
     "output_type": "execute_result"
    }
   ],
   "source": [
    "# Asignar funciones a variables\n",
    "def suma(x, y):\n",
    "    return x + y\n",
    "\n",
    "a = suma\n",
    "a(1, 2)"
   ]
  },
  {
   "cell_type": "code",
   "execution_count": 5,
   "metadata": {
    "collapsed": false,
    "slideshow": {
     "slide_type": "subslide"
    }
   },
   "outputs": [
    {
     "name": "stdout",
     "output_type": "stream",
     "text": [
      "Creando suma de 1, 2\n",
      "Creando suma de 10, 20\n",
      "Suma a: 3\n",
      "Suma b: 30\n"
     ]
    }
   ],
   "source": [
    "# Closures: Podemos crear y devolver funciones.\n",
    "# Las variables locales son capturadas\n",
    "def crea_suma(x, y):\n",
    "    print(\"Creando suma de {}, {}\".format(x, y))\n",
    "    def suma():\n",
    "        return x + y\n",
    "    return suma\n",
    "\n",
    "a = crea_suma(1, 2)\n",
    "b = crea_suma(10, 20)\n",
    "print(\"Suma a: {}\".format(a()))\n",
    "print(\"Suma b: {}\".format(b()))\n"
   ]
  },
  {
   "cell_type": "markdown",
   "metadata": {
    "slideshow": {
     "slide_type": "slide"
    }
   },
   "source": [
    "# Decoradores\n",
    "![caption](decorador.jpg)"
   ]
  },
  {
   "cell_type": "code",
   "execution_count": 11,
   "metadata": {
    "collapsed": true,
    "slideshow": {
     "slide_type": "subslide"
    }
   },
   "outputs": [],
   "source": [
    "# Problema básico\n",
    "def suma(x, y):\n",
    "    \"\"\"\n",
    "    Mi función suma\n",
    "    \"\"\"\n",
    "    print(\"suma\")\n",
    "    return x + y\n",
    "\n",
    "def resta(x, y):\n",
    "    \"\"\"\n",
    "    Mi función resta\n",
    "    \"\"\"\n",
    "    print(\"resta\")\n",
    "    return x - y\n",
    "\n",
    "def multiplica(x, y):\n",
    "    \"\"\"\n",
    "    Mi función multiplica\n",
    "    \"\"\"\n",
    "    print(\"multiplica\")\n",
    "    return x * y"
   ]
  },
  {
   "cell_type": "code",
   "execution_count": 9,
   "metadata": {
    "collapsed": true,
    "slideshow": {
     "slide_type": "fragment"
    }
   },
   "outputs": [],
   "source": [
    "# Mucho código repetido"
   ]
  },
  {
   "cell_type": "code",
   "execution_count": 10,
   "metadata": {
    "collapsed": true,
    "slideshow": {
     "slide_type": "fragment"
    }
   },
   "outputs": [],
   "source": [
    "# Feo"
   ]
  },
  {
   "cell_type": "code",
   "execution_count": 22,
   "metadata": {
    "collapsed": true,
    "slideshow": {
     "slide_type": "subslide"
    }
   },
   "outputs": [],
   "source": [
    "def debuga(func):\n",
    "    def envoltorio(*args, **kwargs):\n",
    "        \"\"\"\n",
    "        Mi función envoltorio\n",
    "        \"\"\"\n",
    "        print(func.__qualname__)\n",
    "        return func(*args, **kwargs)\n",
    "    return envoltorio"
   ]
  },
  {
   "cell_type": "code",
   "execution_count": 23,
   "metadata": {
    "collapsed": false,
    "slideshow": {
     "slide_type": "subslide"
    }
   },
   "outputs": [
    {
     "name": "stdout",
     "output_type": "stream",
     "text": [
      "suma\n"
     ]
    },
    {
     "data": {
      "text/plain": [
       "7"
      ]
     },
     "execution_count": 23,
     "metadata": {},
     "output_type": "execute_result"
    }
   ],
   "source": [
    "def suma(x, y):\n",
    "    \"\"\"\n",
    "    Mi función suma\n",
    "    \"\"\"\n",
    "    return x + y\n",
    "\n",
    "mi_nueva_suma = debuga(suma)\n",
    "mi_nueva_suma(3, 4)"
   ]
  },
  {
   "cell_type": "code",
   "execution_count": 24,
   "metadata": {
    "collapsed": false,
    "slideshow": {
     "slide_type": "fragment"
    }
   },
   "outputs": [
    {
     "name": "stdout",
     "output_type": "stream",
     "text": [
      "suma\n"
     ]
    },
    {
     "data": {
      "text/plain": [
       "3"
      ]
     },
     "execution_count": 24,
     "metadata": {},
     "output_type": "execute_result"
    }
   ],
   "source": [
    "@debuga\n",
    "def suma(x, y):\n",
    "    \"\"\"\n",
    "    Mi función suma\n",
    "    \"\"\"\n",
    "    return x + y\n",
    "\n",
    "suma(1,2)"
   ]
  },
  {
   "cell_type": "markdown",
   "metadata": {
    "slideshow": {
     "slide_type": "subslide"
    }
   },
   "source": [
    "* **Un decorador es una función que genera un envoltorio para otra función**\n",
    "* **La función envoltorio es la que se ejecutará al llamar a la función**"
   ]
  },
  {
   "cell_type": "code",
   "execution_count": 28,
   "metadata": {
    "collapsed": false,
    "slideshow": {
     "slide_type": "subslide"
    }
   },
   "outputs": [
    {
     "name": "stdout",
     "output_type": "stream",
     "text": [
      "envoltorio\n",
      "\n",
      "        Mi función envoltorio\n",
      "        \n"
     ]
    }
   ],
   "source": [
    "print(suma.__name__)\n",
    "print(suma.__doc__)\n"
   ]
  },
  {
   "cell_type": "code",
   "execution_count": 31,
   "metadata": {
    "collapsed": false,
    "slideshow": {
     "slide_type": "subslide"
    }
   },
   "outputs": [],
   "source": [
    "from functools import wraps\n",
    "\n",
    "def debuga(func):\n",
    "    @wraps(func)\n",
    "    def envoltorio(*args, **kwargs):\n",
    "        \"\"\"\n",
    "        Mi función envoltorio\n",
    "        \"\"\"\n",
    "        print(func.__qualname__)\n",
    "        return func(*args, **kwargs)\n",
    "    return envoltorio"
   ]
  },
  {
   "cell_type": "code",
   "execution_count": 78,
   "metadata": {
    "collapsed": false,
    "slideshow": {
     "slide_type": "fragment"
    }
   },
   "outputs": [
    {
     "name": "stdout",
     "output_type": "stream",
     "text": [
      "suma\n",
      "\n",
      "    Mi función suma\n",
      "    \n"
     ]
    }
   ],
   "source": [
    "@debuga\n",
    "def suma(x, y):\n",
    "    \"\"\"\n",
    "    Mi función suma\n",
    "    \"\"\"\n",
    "    return x + y\n",
    "\n",
    "print(suma.__name__)\n",
    "print(suma.__doc__)"
   ]
  },
  {
   "cell_type": "code",
   "execution_count": 79,
   "metadata": {
    "collapsed": false,
    "slideshow": {
     "slide_type": "subslide"
    }
   },
   "outputs": [
    {
     "name": "stdout",
     "output_type": "stream",
     "text": [
      "Envoltorio 1\n",
      "Envoltorio 2\n"
     ]
    },
    {
     "data": {
      "text/plain": [
       "3"
      ]
     },
     "execution_count": 79,
     "metadata": {},
     "output_type": "execute_result"
    }
   ],
   "source": [
    "def decorador1(func):\n",
    "    @wraps(func)\n",
    "    def envoltorio(*args, **kwargs):\n",
    "        print(\"Envoltorio 1\")\n",
    "        return func(*args, **kwargs)\n",
    "    return envoltorio\n",
    "\n",
    "def decorador2(func):\n",
    "    @wraps(func)\n",
    "    def envoltorio(*args, **kwargs):\n",
    "        print(\"Envoltorio 2\")\n",
    "        return func(*args, **kwargs)\n",
    "    return envoltorio\n",
    "\n",
    "@decorador1\n",
    "@decorador2\n",
    "def suma(x, y):\n",
    "    return x + y\n",
    "\n",
    "suma(1, 2)"
   ]
  },
  {
   "cell_type": "code",
   "execution_count": 82,
   "metadata": {
    "collapsed": false,
    "slideshow": {
     "slide_type": "subslide"
    }
   },
   "outputs": [
    {
     "name": "stdout",
     "output_type": "stream",
     "text": [
      "suma\n"
     ]
    }
   ],
   "source": [
    "print(suma.__name__)"
   ]
  },
  {
   "cell_type": "code",
   "execution_count": 84,
   "metadata": {
    "collapsed": false,
    "slideshow": {
     "slide_type": "fragment"
    }
   },
   "outputs": [
    {
     "name": "stdout",
     "output_type": "stream",
     "text": [
      "Envoltorio 2\n"
     ]
    },
    {
     "data": {
      "text/plain": [
       "3"
      ]
     },
     "execution_count": 84,
     "metadata": {},
     "output_type": "execute_result"
    }
   ],
   "source": [
    "suma.__wrapped__(1, 2)"
   ]
  },
  {
   "cell_type": "code",
   "execution_count": 86,
   "metadata": {
    "collapsed": false,
    "slideshow": {
     "slide_type": "fragment"
    }
   },
   "outputs": [
    {
     "data": {
      "text/plain": [
       "3"
      ]
     },
     "execution_count": 86,
     "metadata": {},
     "output_type": "execute_result"
    }
   ],
   "source": [
    "suma.__wrapped__.__wrapped__(1, 2)"
   ]
  },
  {
   "cell_type": "markdown",
   "metadata": {
    "slideshow": {
     "slide_type": "slide"
    }
   },
   "source": [
    "# Ejemplo\n",
    "\n",
    "* **Typechecking**\n",
    "![caption](typechecking.jpeg)"
   ]
  },
  {
   "cell_type": "code",
   "execution_count": 33,
   "metadata": {
    "collapsed": true,
    "slideshow": {
     "slide_type": "subslide"
    }
   },
   "outputs": [],
   "source": [
    "def add_int(a, b):\n",
    "    \"\"\"\n",
    "    Suma dos int\n",
    "    \"\"\"\n",
    "    return a + b\n",
    "\n",
    "def add_str(a):\n",
    "    \"\"\"\n",
    "    Suma el valor unicode de los carácteres del string\n",
    "    \"\"\"\n",
    "    return sum(ord(x) for x in a)\n",
    "\n",
    "def add_custom(a, func):\n",
    "    \"\"\"\n",
    "    Suma aplicando una función\n",
    "    \"\"\"\n",
    "    return func(a)"
   ]
  },
  {
   "cell_type": "code",
   "execution_count": 34,
   "metadata": {
    "collapsed": false,
    "slideshow": {
     "slide_type": "subslide"
    }
   },
   "outputs": [
    {
     "data": {
      "text/plain": [
       "3"
      ]
     },
     "execution_count": 34,
     "metadata": {},
     "output_type": "execute_result"
    }
   ],
   "source": [
    "add_int(1, 2)"
   ]
  },
  {
   "cell_type": "code",
   "execution_count": 35,
   "metadata": {
    "collapsed": false,
    "slideshow": {
     "slide_type": "fragment"
    }
   },
   "outputs": [
    {
     "data": {
      "text/plain": [
       "'ab'"
      ]
     },
     "execution_count": 35,
     "metadata": {},
     "output_type": "execute_result"
    }
   ],
   "source": [
    "add_int(\"a\", \"b\")"
   ]
  },
  {
   "cell_type": "code",
   "execution_count": 36,
   "metadata": {
    "collapsed": false,
    "slideshow": {
     "slide_type": "fragment"
    }
   },
   "outputs": [
    {
     "data": {
      "text/plain": [
       "650"
      ]
     },
     "execution_count": 36,
     "metadata": {},
     "output_type": "execute_result"
    }
   ],
   "source": [
    "add_str(\"tomate\")"
   ]
  },
  {
   "cell_type": "code",
   "execution_count": 37,
   "metadata": {
    "collapsed": false,
    "slideshow": {
     "slide_type": "fragment"
    }
   },
   "outputs": [
    {
     "data": {
      "text/plain": [
       "116"
      ]
     },
     "execution_count": 37,
     "metadata": {},
     "output_type": "execute_result"
    }
   ],
   "source": [
    "add_str(\"t\")"
   ]
  },
  {
   "cell_type": "code",
   "execution_count": 38,
   "metadata": {
    "collapsed": false,
    "slideshow": {
     "slide_type": "fragment"
    }
   },
   "outputs": [
    {
     "data": {
      "text/plain": [
       "195"
      ]
     },
     "execution_count": 38,
     "metadata": {},
     "output_type": "execute_result"
    }
   ],
   "source": [
    "add_str([\"a\", \"b\"])"
   ]
  },
  {
   "cell_type": "code",
   "execution_count": 39,
   "metadata": {
    "collapsed": false,
    "slideshow": {
     "slide_type": "subslide"
    }
   },
   "outputs": [
    {
     "ename": "TypeError",
     "evalue": "ord() expected string of length 1, but int found",
     "output_type": "error",
     "traceback": [
      "\u001b[0;31m---------------------------------------------------------------------------\u001b[0m",
      "\u001b[0;31mTypeError\u001b[0m                                 Traceback (most recent call last)",
      "\u001b[0;32m<ipython-input-39-ac24e419fe6d>\u001b[0m in \u001b[0;36m<module>\u001b[0;34m()\u001b[0m\n\u001b[0;32m----> 1\u001b[0;31m \u001b[0madd_str\u001b[0m\u001b[0;34m(\u001b[0m\u001b[0;34m[\u001b[0m\u001b[0;36m1\u001b[0m\u001b[0;34m,\u001b[0m \u001b[0;36m2\u001b[0m\u001b[0;34m]\u001b[0m\u001b[0;34m)\u001b[0m\u001b[0;34m\u001b[0m\u001b[0m\n\u001b[0m",
      "\u001b[0;32m<ipython-input-33-0099f5d888ff>\u001b[0m in \u001b[0;36madd_str\u001b[0;34m(a)\u001b[0m\n\u001b[1;32m      9\u001b[0m     \u001b[0mSuma\u001b[0m \u001b[0mel\u001b[0m \u001b[0mvalor\u001b[0m \u001b[0municode\u001b[0m \u001b[0mde\u001b[0m \u001b[0mlos\u001b[0m \u001b[0mcarácteres\u001b[0m \u001b[0;32mdel\u001b[0m \u001b[0mstring\u001b[0m\u001b[0;34m\u001b[0m\u001b[0m\n\u001b[1;32m     10\u001b[0m     \"\"\"\n\u001b[0;32m---> 11\u001b[0;31m     \u001b[0;32mreturn\u001b[0m \u001b[0msum\u001b[0m\u001b[0;34m(\u001b[0m\u001b[0mord\u001b[0m\u001b[0;34m(\u001b[0m\u001b[0mx\u001b[0m\u001b[0;34m)\u001b[0m \u001b[0;32mfor\u001b[0m \u001b[0mx\u001b[0m \u001b[0;32min\u001b[0m \u001b[0ma\u001b[0m\u001b[0;34m)\u001b[0m\u001b[0;34m\u001b[0m\u001b[0m\n\u001b[0m\u001b[1;32m     12\u001b[0m \u001b[0;34m\u001b[0m\u001b[0m\n\u001b[1;32m     13\u001b[0m \u001b[0;32mdef\u001b[0m \u001b[0madd_custom\u001b[0m\u001b[0;34m(\u001b[0m\u001b[0ma\u001b[0m\u001b[0;34m,\u001b[0m \u001b[0mfunc\u001b[0m\u001b[0;34m)\u001b[0m\u001b[0;34m:\u001b[0m\u001b[0;34m\u001b[0m\u001b[0m\n",
      "\u001b[0;32m<ipython-input-33-0099f5d888ff>\u001b[0m in \u001b[0;36m<genexpr>\u001b[0;34m(.0)\u001b[0m\n\u001b[1;32m      9\u001b[0m     \u001b[0mSuma\u001b[0m \u001b[0mel\u001b[0m \u001b[0mvalor\u001b[0m \u001b[0municode\u001b[0m \u001b[0mde\u001b[0m \u001b[0mlos\u001b[0m \u001b[0mcarácteres\u001b[0m \u001b[0;32mdel\u001b[0m \u001b[0mstring\u001b[0m\u001b[0;34m\u001b[0m\u001b[0m\n\u001b[1;32m     10\u001b[0m     \"\"\"\n\u001b[0;32m---> 11\u001b[0;31m     \u001b[0;32mreturn\u001b[0m \u001b[0msum\u001b[0m\u001b[0;34m(\u001b[0m\u001b[0mord\u001b[0m\u001b[0;34m(\u001b[0m\u001b[0mx\u001b[0m\u001b[0;34m)\u001b[0m \u001b[0;32mfor\u001b[0m \u001b[0mx\u001b[0m \u001b[0;32min\u001b[0m \u001b[0ma\u001b[0m\u001b[0;34m)\u001b[0m\u001b[0;34m\u001b[0m\u001b[0m\n\u001b[0m\u001b[1;32m     12\u001b[0m \u001b[0;34m\u001b[0m\u001b[0m\n\u001b[1;32m     13\u001b[0m \u001b[0;32mdef\u001b[0m \u001b[0madd_custom\u001b[0m\u001b[0;34m(\u001b[0m\u001b[0ma\u001b[0m\u001b[0;34m,\u001b[0m \u001b[0mfunc\u001b[0m\u001b[0;34m)\u001b[0m\u001b[0;34m:\u001b[0m\u001b[0;34m\u001b[0m\u001b[0m\n",
      "\u001b[0;31mTypeError\u001b[0m: ord() expected string of length 1, but int found"
     ]
    }
   ],
   "source": [
    "add_str([1, 2])"
   ]
  },
  {
   "cell_type": "code",
   "execution_count": 40,
   "metadata": {
    "collapsed": false,
    "slideshow": {
     "slide_type": "subslide"
    }
   },
   "outputs": [
    {
     "data": {
      "text/plain": [
       "8"
      ]
     },
     "execution_count": 40,
     "metadata": {},
     "output_type": "execute_result"
    }
   ],
   "source": [
    "add_custom([[1,2],[3,2]], lambda x: sum([sum((z,y)) for z, y in x]))"
   ]
  },
  {
   "cell_type": "code",
   "execution_count": 42,
   "metadata": {
    "collapsed": false,
    "slideshow": {
     "slide_type": "fragment"
    }
   },
   "outputs": [
    {
     "ename": "TypeError",
     "evalue": "'str' object is not callable",
     "output_type": "error",
     "traceback": [
      "\u001b[0;31m---------------------------------------------------------------------------\u001b[0m",
      "\u001b[0;31mTypeError\u001b[0m                                 Traceback (most recent call last)",
      "\u001b[0;32m<ipython-input-42-0c08079726a8>\u001b[0m in \u001b[0;36m<module>\u001b[0;34m()\u001b[0m\n\u001b[0;32m----> 1\u001b[0;31m \u001b[0madd_custom\u001b[0m\u001b[0;34m(\u001b[0m\u001b[0;34m\"ad\"\u001b[0m\u001b[0;34m,\u001b[0m \u001b[0;34m\"ad\"\u001b[0m\u001b[0;34m)\u001b[0m\u001b[0;34m\u001b[0m\u001b[0m\n\u001b[0m",
      "\u001b[0;32m<ipython-input-33-0099f5d888ff>\u001b[0m in \u001b[0;36madd_custom\u001b[0;34m(a, func)\u001b[0m\n\u001b[1;32m     15\u001b[0m     \u001b[0mSuma\u001b[0m \u001b[0maplicando\u001b[0m \u001b[0muna\u001b[0m \u001b[0mfunción\u001b[0m\u001b[0;34m\u001b[0m\u001b[0m\n\u001b[1;32m     16\u001b[0m     \"\"\"\n\u001b[0;32m---> 17\u001b[0;31m     \u001b[0;32mreturn\u001b[0m \u001b[0mfunc\u001b[0m\u001b[0;34m(\u001b[0m\u001b[0ma\u001b[0m\u001b[0;34m)\u001b[0m\u001b[0;34m\u001b[0m\u001b[0m\n\u001b[0m",
      "\u001b[0;31mTypeError\u001b[0m: 'str' object is not callable"
     ]
    }
   ],
   "source": [
    "add_custom(\"ad\", \"ad\")"
   ]
  },
  {
   "cell_type": "code",
   "execution_count": 43,
   "metadata": {
    "collapsed": true,
    "slideshow": {
     "slide_type": "subslide"
    }
   },
   "outputs": [],
   "source": [
    "import types\n",
    "\n",
    "def add_int(a, b):\n",
    "    \"\"\"\n",
    "    Devuelve la suma de dos números\n",
    "    \"\"\"\n",
    "    if isinstance(a, int) and isinstance(b, int):\n",
    "        return a + b\n",
    "    else:\n",
    "        print(\"Both a and be must be an int\")\n",
    "\n",
    "def add_str(a):\n",
    "    \"\"\"\n",
    "    Suma el valor unicode de los carácteres del string\n",
    "    \"\"\"\n",
    "    if isinstance(a, str):\n",
    "        return sum(ord(x) for x in a)\n",
    "    else:\n",
    "        print(\"a must be a string\")\n",
    "\n",
    "def add_custom(a, func):\n",
    "    \"\"\"\n",
    "    Suma aplicando una función\n",
    "    \"\"\"\n",
    "    if isinstance(func, types.LambdaType):\n",
    "        return func(a)\n",
    "    else:\n",
    "        print(\"func must be a function\")"
   ]
  },
  {
   "cell_type": "code",
   "execution_count": 44,
   "metadata": {
    "collapsed": false,
    "slideshow": {
     "slide_type": "subslide"
    }
   },
   "outputs": [
    {
     "name": "stdout",
     "output_type": "stream",
     "text": [
      "Both a and be must be an int\n"
     ]
    }
   ],
   "source": [
    "add_int(\"a\", \"b\")"
   ]
  },
  {
   "cell_type": "code",
   "execution_count": 45,
   "metadata": {
    "collapsed": false,
    "slideshow": {
     "slide_type": "fragment"
    }
   },
   "outputs": [
    {
     "name": "stdout",
     "output_type": "stream",
     "text": [
      "a must be a string\n"
     ]
    }
   ],
   "source": [
    "add_str(23)"
   ]
  },
  {
   "cell_type": "code",
   "execution_count": 46,
   "metadata": {
    "collapsed": false,
    "slideshow": {
     "slide_type": "fragment"
    }
   },
   "outputs": [
    {
     "name": "stdout",
     "output_type": "stream",
     "text": [
      "func must be a function\n"
     ]
    }
   ],
   "source": [
    "add_custom(\"ad\", \"ad\")"
   ]
  },
  {
   "cell_type": "code",
   "execution_count": 47,
   "metadata": {
    "collapsed": true,
    "slideshow": {
     "slide_type": "subslide"
    }
   },
   "outputs": [],
   "source": [
    "import types\n",
    "\n",
    "def add_int(a, b):\n",
    "    \"\"\"\n",
    "    Devuelve la suma de dos números\n",
    "    \"\"\"\n",
    "    if isinstance(a, int) and isinstance(b, int):\n",
    "        return a + b\n",
    "    else:\n",
    "        print(\"Both a and be must be an int\")\n",
    "\n",
    "def add_str(a):\n",
    "    \"\"\"\n",
    "    Suma el valor unicode de los carácteres del string\n",
    "    \"\"\"\n",
    "    if isinstance(a, str):\n",
    "        return sum(ord(x) for x in a)\n",
    "    else:\n",
    "        print(\"a must be a string\")\n",
    "\n",
    "def add_custom(a, func):\n",
    "    \"\"\"\n",
    "    Suma aplicando una función\n",
    "    \"\"\"\n",
    "    if isinstance(func, types.LambdaType):\n",
    "        return func(a)\n",
    "    else:\n",
    "        print(\"func must be a function\")"
   ]
  },
  {
   "cell_type": "code",
   "execution_count": 48,
   "metadata": {
    "collapsed": false,
    "slideshow": {
     "slide_type": "subslide"
    }
   },
   "outputs": [
    {
     "data": {
      "text/plain": [
       "3"
      ]
     },
     "execution_count": 48,
     "metadata": {},
     "output_type": "execute_result"
    }
   ],
   "source": [
    "def my_func(x: \"tomate\", b:\"lechuga\") -> \"ensalada\":\n",
    "    return x + b\n",
    "my_func(1,2)"
   ]
  },
  {
   "cell_type": "code",
   "execution_count": 49,
   "metadata": {
    "collapsed": false,
    "slideshow": {
     "slide_type": "subslide"
    }
   },
   "outputs": [
    {
     "data": {
      "text/plain": [
       "<inspect.Signature at 0x104cac978>"
      ]
     },
     "execution_count": 49,
     "metadata": {},
     "output_type": "execute_result"
    }
   ],
   "source": [
    "import inspect\n",
    "\n",
    "def add_int(a: int, b: int) -> int:\n",
    "    return a + b\n",
    "\n",
    "sig = inspect.signature(add_int)\n",
    "sig"
   ]
  },
  {
   "cell_type": "code",
   "execution_count": 50,
   "metadata": {
    "collapsed": false,
    "slideshow": {
     "slide_type": "fragment"
    }
   },
   "outputs": [
    {
     "name": "stdout",
     "output_type": "stream",
     "text": [
      "(a:int, b:int) -> int\n"
     ]
    }
   ],
   "source": [
    "print(sig)"
   ]
  },
  {
   "cell_type": "code",
   "execution_count": 51,
   "metadata": {
    "collapsed": false,
    "slideshow": {
     "slide_type": "fragment"
    }
   },
   "outputs": [
    {
     "data": {
      "text/plain": [
       "int"
      ]
     },
     "execution_count": 51,
     "metadata": {},
     "output_type": "execute_result"
    }
   ],
   "source": [
    "sig.return_annotation"
   ]
  },
  {
   "cell_type": "code",
   "execution_count": 52,
   "metadata": {
    "collapsed": false,
    "slideshow": {
     "slide_type": "fragment"
    }
   },
   "outputs": [
    {
     "data": {
      "text/plain": [
       "mappingproxy(OrderedDict([('a', <Parameter at 0x104cd2240 'a'>), ('b', <Parameter at 0x104cd2a68 'b'>)]))"
      ]
     },
     "execution_count": 52,
     "metadata": {},
     "output_type": "execute_result"
    }
   ],
   "source": [
    "sig.parameters"
   ]
  },
  {
   "cell_type": "code",
   "execution_count": 53,
   "metadata": {
    "collapsed": false,
    "slideshow": {
     "slide_type": "fragment"
    }
   },
   "outputs": [
    {
     "data": {
      "text/plain": [
       "int"
      ]
     },
     "execution_count": 53,
     "metadata": {},
     "output_type": "execute_result"
    }
   ],
   "source": [
    "sig.parameters['b'].annotation"
   ]
  },
  {
   "cell_type": "code",
   "execution_count": 54,
   "metadata": {
    "collapsed": false,
    "slideshow": {
     "slide_type": "fragment"
    }
   },
   "outputs": [
    {
     "name": "stdout",
     "output_type": "stream",
     "text": [
      "POSITIONAL_OR_KEYWORD\n"
     ]
    }
   ],
   "source": [
    "print(sig.parameters['b'].kind)"
   ]
  },
  {
   "cell_type": "code",
   "execution_count": 55,
   "metadata": {
    "collapsed": false,
    "slideshow": {
     "slide_type": "subslide"
    }
   },
   "outputs": [
    {
     "name": "stdout",
     "output_type": "stream",
     "text": [
      "<inspect.BoundArguments object at 0x104cb51d0>\n"
     ]
    }
   ],
   "source": [
    "bound = sig.bind(1,2)\n",
    "print(bound)"
   ]
  },
  {
   "cell_type": "code",
   "execution_count": 56,
   "metadata": {
    "collapsed": false,
    "slideshow": {
     "slide_type": "fragment"
    }
   },
   "outputs": [
    {
     "data": {
      "text/plain": [
       "OrderedDict([('a', 1), ('b', 2)])"
      ]
     },
     "execution_count": 56,
     "metadata": {},
     "output_type": "execute_result"
    }
   ],
   "source": [
    "bound.arguments"
   ]
  },
  {
   "cell_type": "markdown",
   "metadata": {
    "slideshow": {
     "slide_type": "subslide"
    }
   },
   "source": [
    "# Ejemplo\n",
    "\n",
    "* **Typechecking**\n",
    "* **Decorador que mediante anotaciones comprueba si los tipos son válidos**"
   ]
  },
  {
   "cell_type": "code",
   "execution_count": 57,
   "metadata": {
    "collapsed": true,
    "slideshow": {
     "slide_type": "subslide"
    }
   },
   "outputs": [],
   "source": [
    "def typecheck(func):\n",
    "    signature = inspect.signature(func)\n",
    "    @wraps(func)\n",
    "    def wrapper(*args, **kwargs):\n",
    "        bounded = signature.bind(*args, **kwargs)\n",
    "        error_msg = \"\"\n",
    "        for param in signature.parameters.values():\n",
    "            if not isinstance(bounded.arguments[param.name], param.annotation):\n",
    "                type_passed = type(bounded.arguments[param.name])\n",
    "                msg = \"The argument '{}' should be type '{}' when calling function '{}' and is of type '{}'.\\n\"\n",
    "                error_msg += msg.format(param.name, param.annotation, func.__qualname__, type_passed)\n",
    "        if error_msg:\n",
    "            print(error_msg)\n",
    "        else:\n",
    "            return func(*args, **kwargs)\n",
    "    return wrapper"
   ]
  },
  {
   "cell_type": "code",
   "execution_count": 58,
   "metadata": {
    "collapsed": true,
    "slideshow": {
     "slide_type": "subslide"
    }
   },
   "outputs": [],
   "source": [
    "@typecheck\n",
    "def add_int(a: int, b: int) -> int:\n",
    "    return a + b"
   ]
  },
  {
   "cell_type": "code",
   "execution_count": 59,
   "metadata": {
    "collapsed": false,
    "slideshow": {
     "slide_type": "fragment"
    }
   },
   "outputs": [
    {
     "data": {
      "text/plain": [
       "3"
      ]
     },
     "execution_count": 59,
     "metadata": {},
     "output_type": "execute_result"
    }
   ],
   "source": [
    "add_int(1, 2)"
   ]
  },
  {
   "cell_type": "code",
   "execution_count": 60,
   "metadata": {
    "collapsed": false,
    "slideshow": {
     "slide_type": "fragment"
    }
   },
   "outputs": [
    {
     "name": "stdout",
     "output_type": "stream",
     "text": [
      "The argument 'a' should be type '<class 'int'>' when calling function 'add_int' and is of type '<class 'str'>'.\n",
      "The argument 'b' should be type '<class 'int'>' when calling function 'add_int' and is of type '<class 'str'>'.\n",
      "\n"
     ]
    }
   ],
   "source": [
    "add_int(\"a\", \"b\")"
   ]
  },
  {
   "cell_type": "markdown",
   "metadata": {
    "slideshow": {
     "slide_type": "subslide"
    }
   },
   "source": [
    "# Ejemplo\n",
    "\n",
    "* **Typechecking**\n",
    "* **Decorador que mediante anotaciones comprueba si los tipos son válidos**\n",
    "* **Pasar argumento a decorador para lanzar excepción**"
   ]
  },
  {
   "cell_type": "code",
   "execution_count": 63,
   "metadata": {
    "collapsed": false,
    "slideshow": {
     "slide_type": "subslide"
    }
   },
   "outputs": [],
   "source": [
    "def typecheck(raise_exception=False):\n",
    "    def decorator(func):\n",
    "        signature = inspect.signature(func)\n",
    "        @wraps(func)\n",
    "        def wrapper(*args, **kwargs):\n",
    "            bounded = signature.bind(*args, **kwargs)\n",
    "            error_msg = \"\"\n",
    "            for param in signature.parameters.values():\n",
    "                if not isinstance(bounded.arguments[param.name], param.annotation):\n",
    "                    type_passed = type(bounded.arguments[param.name])\n",
    "                    msg = \"The argument '{}' should be type '{}' when calling function '{}' and is of type '{}'.\\n\"\n",
    "                    error_msg += msg.format(param.name, param.annotation, func.__qualname__, type_passed)\n",
    "            if error_msg and raise_exception:\n",
    "                raise TypeError(error_msg)\n",
    "            elif error_msg:\n",
    "                print(error_msg)\n",
    "            else:\n",
    "                return func(*args, **kwargs)\n",
    "        return wrapper\n",
    "    return decorator"
   ]
  },
  {
   "cell_type": "code",
   "execution_count": 64,
   "metadata": {
    "collapsed": false,
    "slideshow": {
     "slide_type": "fragment"
    }
   },
   "outputs": [
    {
     "data": {
      "text/plain": [
       "3"
      ]
     },
     "execution_count": 64,
     "metadata": {},
     "output_type": "execute_result"
    }
   ],
   "source": [
    "typecheck(raise_exception=True)(add_int)(1, 2)"
   ]
  },
  {
   "cell_type": "code",
   "execution_count": 66,
   "metadata": {
    "collapsed": false,
    "slideshow": {
     "slide_type": "fragment"
    }
   },
   "outputs": [
    {
     "name": "stdout",
     "output_type": "stream",
     "text": [
      "The argument 'a' should be type '<class 'int'>' when calling function 'add_int' and is of type '<class 'str'>'.\n",
      "\n"
     ]
    }
   ],
   "source": [
    "typecheck(raise_exception=False)(add_int)(\"a\", 2)"
   ]
  },
  {
   "cell_type": "code",
   "execution_count": 67,
   "metadata": {
    "collapsed": false,
    "slideshow": {
     "slide_type": "subslide"
    }
   },
   "outputs": [
    {
     "ename": "TypeError",
     "evalue": "The argument 'a' should be type '<class 'int'>' when calling function 'add_int' and is of type '<class 'str'>'.\n",
     "output_type": "error",
     "traceback": [
      "\u001b[0;31m---------------------------------------------------------------------------\u001b[0m",
      "\u001b[0;31mTypeError\u001b[0m                                 Traceback (most recent call last)",
      "\u001b[0;32m<ipython-input-67-f07bf5130a58>\u001b[0m in \u001b[0;36m<module>\u001b[0;34m()\u001b[0m\n\u001b[0;32m----> 1\u001b[0;31m \u001b[0mtypecheck\u001b[0m\u001b[0;34m(\u001b[0m\u001b[0mraise_exception\u001b[0m\u001b[0;34m=\u001b[0m\u001b[0;32mTrue\u001b[0m\u001b[0;34m)\u001b[0m\u001b[0;34m(\u001b[0m\u001b[0madd_int\u001b[0m\u001b[0;34m)\u001b[0m\u001b[0;34m(\u001b[0m\u001b[0;34m\"a\"\u001b[0m\u001b[0;34m,\u001b[0m \u001b[0;36m2\u001b[0m\u001b[0;34m)\u001b[0m\u001b[0;34m\u001b[0m\u001b[0m\n\u001b[0m",
      "\u001b[0;32m<ipython-input-63-1194a126dcbf>\u001b[0m in \u001b[0;36mwrapper\u001b[0;34m(*args, **kwargs)\u001b[0m\n\u001b[1;32m     12\u001b[0m                     \u001b[0merror_msg\u001b[0m \u001b[0;34m+=\u001b[0m \u001b[0mmsg\u001b[0m\u001b[0;34m.\u001b[0m\u001b[0mformat\u001b[0m\u001b[0;34m(\u001b[0m\u001b[0mparam\u001b[0m\u001b[0;34m.\u001b[0m\u001b[0mname\u001b[0m\u001b[0;34m,\u001b[0m \u001b[0mparam\u001b[0m\u001b[0;34m.\u001b[0m\u001b[0mannotation\u001b[0m\u001b[0;34m,\u001b[0m \u001b[0mfunc\u001b[0m\u001b[0;34m.\u001b[0m\u001b[0m__qualname__\u001b[0m\u001b[0;34m,\u001b[0m \u001b[0mtype_passed\u001b[0m\u001b[0;34m)\u001b[0m\u001b[0;34m\u001b[0m\u001b[0m\n\u001b[1;32m     13\u001b[0m             \u001b[0;32mif\u001b[0m \u001b[0merror_msg\u001b[0m \u001b[0;32mand\u001b[0m \u001b[0mraise_exception\u001b[0m\u001b[0;34m:\u001b[0m\u001b[0;34m\u001b[0m\u001b[0m\n\u001b[0;32m---> 14\u001b[0;31m                 \u001b[0;32mraise\u001b[0m \u001b[0mTypeError\u001b[0m\u001b[0;34m(\u001b[0m\u001b[0merror_msg\u001b[0m\u001b[0;34m)\u001b[0m\u001b[0;34m\u001b[0m\u001b[0m\n\u001b[0m\u001b[1;32m     15\u001b[0m             \u001b[0;32melif\u001b[0m \u001b[0merror_msg\u001b[0m\u001b[0;34m:\u001b[0m\u001b[0;34m\u001b[0m\u001b[0m\n\u001b[1;32m     16\u001b[0m                 \u001b[0mprint\u001b[0m\u001b[0;34m(\u001b[0m\u001b[0merror_msg\u001b[0m\u001b[0;34m)\u001b[0m\u001b[0;34m\u001b[0m\u001b[0m\n",
      "\u001b[0;31mTypeError\u001b[0m: The argument 'a' should be type '<class 'int'>' when calling function 'add_int' and is of type '<class 'str'>'.\n"
     ]
    }
   ],
   "source": [
    "typecheck(raise_exception=True)(add_int)(\"a\", 2)"
   ]
  },
  {
   "cell_type": "code",
   "execution_count": 68,
   "metadata": {
    "collapsed": false,
    "slideshow": {
     "slide_type": "subslide"
    }
   },
   "outputs": [
    {
     "name": "stdout",
     "output_type": "stream",
     "text": [
      "The argument 'a' should be type '<class 'int'>' when calling function 'add_int' and is of type '<class 'str'>'.\n",
      "The argument 'b' should be type '<class 'int'>' when calling function 'add_int' and is of type '<class 'str'>'.\n",
      "\n"
     ]
    }
   ],
   "source": [
    "@typecheck()\n",
    "def add_int(a: int, b: int) -> int:\n",
    "    return a + b\n",
    "\n",
    "add_int(\"a\", \"b\")"
   ]
  },
  {
   "cell_type": "code",
   "execution_count": 69,
   "metadata": {
    "collapsed": true,
    "slideshow": {
     "slide_type": "subslide"
    }
   },
   "outputs": [],
   "source": [
    "from functools import partial\n",
    "def typecheck(func=None, *, raise_exception=False):\n",
    "    if func is None:\n",
    "        return partial(typecheck, raise_exception=raise_exception)\n",
    "    signature = inspect.signature(func)\n",
    "    @wraps(func)\n",
    "    def wrapper(*args, **kwargs):\n",
    "        \"\"\"\n",
    "        Función Envoltorio\n",
    "        \"\"\"\n",
    "        bounded = signature.bind(*args, **kwargs)\n",
    "        error_msg = \"\"\n",
    "        for param in signature.parameters.values():\n",
    "            if not isinstance(bounded.arguments[param.name], param.annotation):\n",
    "                type_passed = type(bounded.arguments[param.name])\n",
    "                msg = \"The argument '{}' should be type '{}' when calling function '{}' and is of type '{}'.\\n\"\n",
    "                error_msg += msg.format(param.name, param.annotation, func.__qualname__, type_passed)\n",
    "        if error_msg and raise_exception:\n",
    "            raise TypeError(error_msg)\n",
    "        elif error_msg:\n",
    "            print(error_msg)\n",
    "        else:\n",
    "            return func(*args, **kwargs)\n",
    "    return wrapper"
   ]
  },
  {
   "cell_type": "code",
   "execution_count": 73,
   "metadata": {
    "collapsed": true,
    "slideshow": {
     "slide_type": "subslide"
    }
   },
   "outputs": [],
   "source": [
    "@typecheck\n",
    "def add_int(a: int, b: int) -> int:\n",
    "    return a + b"
   ]
  },
  {
   "cell_type": "code",
   "execution_count": 74,
   "metadata": {
    "collapsed": false,
    "slideshow": {
     "slide_type": "fragment"
    }
   },
   "outputs": [
    {
     "name": "stdout",
     "output_type": "stream",
     "text": [
      "The argument 'a' should be type '<class 'int'>' when calling function 'add_int' and is of type '<class 'str'>'.\n",
      "The argument 'b' should be type '<class 'int'>' when calling function 'add_int' and is of type '<class 'str'>'.\n",
      "\n"
     ]
    }
   ],
   "source": [
    "add_int(\"a\", \"b\")"
   ]
  },
  {
   "cell_type": "code",
   "execution_count": 75,
   "metadata": {
    "collapsed": true,
    "slideshow": {
     "slide_type": "subslide"
    }
   },
   "outputs": [],
   "source": [
    "@typecheck(raise_exception=True)\n",
    "def add_int(a: int, b: int) -> int:\n",
    "    return a + b"
   ]
  },
  {
   "cell_type": "code",
   "execution_count": 76,
   "metadata": {
    "collapsed": false,
    "slideshow": {
     "slide_type": "fragment"
    }
   },
   "outputs": [
    {
     "ename": "TypeError",
     "evalue": "The argument 'a' should be type '<class 'int'>' when calling function 'add_int' and is of type '<class 'str'>'.\nThe argument 'b' should be type '<class 'int'>' when calling function 'add_int' and is of type '<class 'str'>'.\n",
     "output_type": "error",
     "traceback": [
      "\u001b[0;31m---------------------------------------------------------------------------\u001b[0m",
      "\u001b[0;31mTypeError\u001b[0m                                 Traceback (most recent call last)",
      "\u001b[0;32m<ipython-input-76-b46c679af990>\u001b[0m in \u001b[0;36m<module>\u001b[0;34m()\u001b[0m\n\u001b[0;32m----> 1\u001b[0;31m \u001b[0madd_int\u001b[0m\u001b[0;34m(\u001b[0m\u001b[0;34m\"a\"\u001b[0m\u001b[0;34m,\u001b[0m \u001b[0;34m\"b\"\u001b[0m\u001b[0;34m)\u001b[0m\u001b[0;34m\u001b[0m\u001b[0m\n\u001b[0m",
      "\u001b[0;32m<ipython-input-69-b634af195f03>\u001b[0m in \u001b[0;36mwrapper\u001b[0;34m(*args, **kwargs)\u001b[0m\n\u001b[1;32m     17\u001b[0m                 \u001b[0merror_msg\u001b[0m \u001b[0;34m+=\u001b[0m \u001b[0mmsg\u001b[0m\u001b[0;34m.\u001b[0m\u001b[0mformat\u001b[0m\u001b[0;34m(\u001b[0m\u001b[0mparam\u001b[0m\u001b[0;34m.\u001b[0m\u001b[0mname\u001b[0m\u001b[0;34m,\u001b[0m \u001b[0mparam\u001b[0m\u001b[0;34m.\u001b[0m\u001b[0mannotation\u001b[0m\u001b[0;34m,\u001b[0m \u001b[0mfunc\u001b[0m\u001b[0;34m.\u001b[0m\u001b[0m__qualname__\u001b[0m\u001b[0;34m,\u001b[0m \u001b[0mtype_passed\u001b[0m\u001b[0;34m)\u001b[0m\u001b[0;34m\u001b[0m\u001b[0m\n\u001b[1;32m     18\u001b[0m         \u001b[0;32mif\u001b[0m \u001b[0merror_msg\u001b[0m \u001b[0;32mand\u001b[0m \u001b[0mraise_exception\u001b[0m\u001b[0;34m:\u001b[0m\u001b[0;34m\u001b[0m\u001b[0m\n\u001b[0;32m---> 19\u001b[0;31m             \u001b[0;32mraise\u001b[0m \u001b[0mTypeError\u001b[0m\u001b[0;34m(\u001b[0m\u001b[0merror_msg\u001b[0m\u001b[0;34m)\u001b[0m\u001b[0;34m\u001b[0m\u001b[0m\n\u001b[0m\u001b[1;32m     20\u001b[0m         \u001b[0;32melif\u001b[0m \u001b[0merror_msg\u001b[0m\u001b[0;34m:\u001b[0m\u001b[0;34m\u001b[0m\u001b[0m\n\u001b[1;32m     21\u001b[0m             \u001b[0mprint\u001b[0m\u001b[0;34m(\u001b[0m\u001b[0merror_msg\u001b[0m\u001b[0;34m)\u001b[0m\u001b[0;34m\u001b[0m\u001b[0m\n",
      "\u001b[0;31mTypeError\u001b[0m: The argument 'a' should be type '<class 'int'>' when calling function 'add_int' and is of type '<class 'str'>'.\nThe argument 'b' should be type '<class 'int'>' when calling function 'add_int' and is of type '<class 'str'>'.\n"
     ]
    }
   ],
   "source": [
    "add_int(\"a\", \"b\")"
   ]
  },
  {
   "cell_type": "code",
   "execution_count": 87,
   "metadata": {
    "collapsed": false,
    "slideshow": {
     "slide_type": "subslide"
    }
   },
   "outputs": [
    {
     "data": {
      "text/plain": [
       "'add_int'"
      ]
     },
     "execution_count": 87,
     "metadata": {},
     "output_type": "execute_result"
    }
   ],
   "source": [
    "add_int.__name__"
   ]
  },
  {
   "cell_type": "code",
   "execution_count": null,
   "metadata": {
    "collapsed": true,
    "slideshow": {
     "slide_type": "subslide"
    }
   },
   "outputs": [],
   "source": [
    "@typecheck\n",
    "def add_int(a:int, b:int) -> int:\n",
    "    return a + b\n",
    "\n",
    "add_int(\"a\", \"b\")\n",
    "\n",
    "add_int.set_raise_exception = True\n",
    "\n",
    "add_int(\"a\", \"b\")"
   ]
  },
  {
   "cell_type": "code",
   "execution_count": 100,
   "metadata": {
    "collapsed": true,
    "slideshow": {
     "slide_type": "subslide"
    }
   },
   "outputs": [],
   "source": [
    "def adjunta_wrapper(obj, func=None):\n",
    "    if func is None:\n",
    "        return partial(adjunta_wrapper, obj)\n",
    "    setattr(obj, func.__name__, func)\n",
    "    return func\n",
    "\n",
    "def typecheck(func=None, *, raise_exception=False):\n",
    "    if func is None:\n",
    "        return partial(typecheck, raise_exception=raise_exception)\n",
    "    signature = inspect.signature(func)\n",
    "    @wraps(func)\n",
    "    def wrapper(*args, **kwargs):\n",
    "        \"\"\"\n",
    "        Función Envoltorio\n",
    "        \"\"\"\n",
    "        bounded = signature.bind(*args, **kwargs)\n",
    "        error_msg = \"\"\n",
    "        for param in signature.parameters.values():\n",
    "            if not isinstance(bounded.arguments[param.name], param.annotation):\n",
    "                type_passed = type(bounded.arguments[param.name])\n",
    "                msg = \"The argument '{}' should be type '{}' when calling function '{}' and is of type '{}'.\\n\"\n",
    "                error_msg += msg.format(param.name, param.annotation, func.__qualname__, type_passed)\n",
    "        if error_msg and raise_exception:\n",
    "            raise TypeError(error_msg)\n",
    "        elif error_msg:\n",
    "            print(error_msg)\n",
    "        else:\n",
    "            return func(*args, **kwargs)\n",
    "    \n",
    "    @adjunta_wrapper(wrapper)\n",
    "    def set_raise_exception(raise_exception_level):\n",
    "        nonlocal raise_exception\n",
    "        raise_exception = raise_exception_level\n",
    "        \n",
    "    return wrapper"
   ]
  },
  {
   "cell_type": "code",
   "execution_count": 101,
   "metadata": {
    "collapsed": false,
    "slideshow": {
     "slide_type": "subslide"
    }
   },
   "outputs": [
    {
     "name": "stdout",
     "output_type": "stream",
     "text": [
      "The argument 'a' should be type '<class 'int'>' when calling function 'add_int' and is of type '<class 'str'>'.\n",
      "The argument 'b' should be type '<class 'int'>' when calling function 'add_int' and is of type '<class 'str'>'.\n",
      "\n"
     ]
    }
   ],
   "source": [
    "@typecheck\n",
    "def add_int(a:int, b:int) -> int:\n",
    "    return a + b\n",
    "\n",
    "add_int(\"a\", \"b\")"
   ]
  },
  {
   "cell_type": "code",
   "execution_count": 102,
   "metadata": {
    "collapsed": false,
    "slideshow": {
     "slide_type": "fragment"
    }
   },
   "outputs": [
    {
     "data": {
      "text/plain": [
       "<function __main__.typecheck.<locals>.set_raise_exception>"
      ]
     },
     "execution_count": 102,
     "metadata": {},
     "output_type": "execute_result"
    }
   ],
   "source": [
    "add_int.set_raise_exception"
   ]
  },
  {
   "cell_type": "code",
   "execution_count": 103,
   "metadata": {
    "collapsed": false,
    "slideshow": {
     "slide_type": "subslide"
    }
   },
   "outputs": [
    {
     "ename": "TypeError",
     "evalue": "The argument 'a' should be type '<class 'int'>' when calling function 'add_int' and is of type '<class 'str'>'.\nThe argument 'b' should be type '<class 'int'>' when calling function 'add_int' and is of type '<class 'str'>'.\n",
     "output_type": "error",
     "traceback": [
      "\u001b[0;31m---------------------------------------------------------------------------\u001b[0m",
      "\u001b[0;31mTypeError\u001b[0m                                 Traceback (most recent call last)",
      "\u001b[0;32m<ipython-input-103-34855a2bdb21>\u001b[0m in \u001b[0;36m<module>\u001b[0;34m()\u001b[0m\n\u001b[1;32m      1\u001b[0m \u001b[0madd_int\u001b[0m\u001b[0;34m.\u001b[0m\u001b[0mset_raise_exception\u001b[0m\u001b[0;34m(\u001b[0m\u001b[0;32mTrue\u001b[0m\u001b[0;34m)\u001b[0m\u001b[0;34m\u001b[0m\u001b[0m\n\u001b[0;32m----> 2\u001b[0;31m \u001b[0madd_int\u001b[0m\u001b[0;34m(\u001b[0m\u001b[0;34m\"a\"\u001b[0m\u001b[0;34m,\u001b[0m \u001b[0;34m\"b\"\u001b[0m\u001b[0;34m)\u001b[0m\u001b[0;34m\u001b[0m\u001b[0m\n\u001b[0m",
      "\u001b[0;32m<ipython-input-100-8eb287157735>\u001b[0m in \u001b[0;36mwrapper\u001b[0;34m(*args, **kwargs)\u001b[0m\n\u001b[1;32m     22\u001b[0m                 \u001b[0merror_msg\u001b[0m \u001b[0;34m+=\u001b[0m \u001b[0mmsg\u001b[0m\u001b[0;34m.\u001b[0m\u001b[0mformat\u001b[0m\u001b[0;34m(\u001b[0m\u001b[0mparam\u001b[0m\u001b[0;34m.\u001b[0m\u001b[0mname\u001b[0m\u001b[0;34m,\u001b[0m \u001b[0mparam\u001b[0m\u001b[0;34m.\u001b[0m\u001b[0mannotation\u001b[0m\u001b[0;34m,\u001b[0m \u001b[0mfunc\u001b[0m\u001b[0;34m.\u001b[0m\u001b[0m__qualname__\u001b[0m\u001b[0;34m,\u001b[0m \u001b[0mtype_passed\u001b[0m\u001b[0;34m)\u001b[0m\u001b[0;34m\u001b[0m\u001b[0m\n\u001b[1;32m     23\u001b[0m         \u001b[0;32mif\u001b[0m \u001b[0merror_msg\u001b[0m \u001b[0;32mand\u001b[0m \u001b[0mraise_exception\u001b[0m\u001b[0;34m:\u001b[0m\u001b[0;34m\u001b[0m\u001b[0m\n\u001b[0;32m---> 24\u001b[0;31m             \u001b[0;32mraise\u001b[0m \u001b[0mTypeError\u001b[0m\u001b[0;34m(\u001b[0m\u001b[0merror_msg\u001b[0m\u001b[0;34m)\u001b[0m\u001b[0;34m\u001b[0m\u001b[0m\n\u001b[0m\u001b[1;32m     25\u001b[0m         \u001b[0;32melif\u001b[0m \u001b[0merror_msg\u001b[0m\u001b[0;34m:\u001b[0m\u001b[0;34m\u001b[0m\u001b[0m\n\u001b[1;32m     26\u001b[0m             \u001b[0mprint\u001b[0m\u001b[0;34m(\u001b[0m\u001b[0merror_msg\u001b[0m\u001b[0;34m)\u001b[0m\u001b[0;34m\u001b[0m\u001b[0m\n",
      "\u001b[0;31mTypeError\u001b[0m: The argument 'a' should be type '<class 'int'>' when calling function 'add_int' and is of type '<class 'str'>'.\nThe argument 'b' should be type '<class 'int'>' when calling function 'add_int' and is of type '<class 'str'>'.\n"
     ]
    }
   ],
   "source": [
    "add_int.set_raise_exception(True)\n",
    "add_int(\"a\", \"b\")"
   ]
  },
  {
   "cell_type": "code",
   "execution_count": 104,
   "metadata": {
    "collapsed": true,
    "slideshow": {
     "slide_type": "subslide"
    }
   },
   "outputs": [],
   "source": [
    "def adjunta_wrapper(obj, func=None):\n",
    "    if func is None:\n",
    "        return partial(adjunta_wrapper, obj)\n",
    "    setattr(obj, func.__name__, func)\n",
    "    return func\n",
    "\n",
    "def typecheck(func=None, *, raise_exception=False):\n",
    "    if func is None:\n",
    "        return partial(typecheck, raise_exception=raise_exception)\n",
    "    signature = inspect.signature(func)\n",
    "    @wraps(func)\n",
    "    def wrapper(*args, **kwargs):\n",
    "        \"\"\"\n",
    "        Función Envoltorio\n",
    "        \"\"\"\n",
    "        bounded = signature.bind(*args, **kwargs)\n",
    "        error_msg = \"\"\n",
    "        for param in signature.parameters.values():\n",
    "            if not isinstance(bounded.arguments[param.name], param.annotation):\n",
    "                type_passed = type(bounded.arguments[param.name])\n",
    "                msg = \"The argument '{}' should be type '{}' when calling function '{}' and is of type '{}'.\\n\"\n",
    "                error_msg += msg.format(param.name, param.annotation, func.__qualname__, type_passed)\n",
    "        if error_msg and raise_exception:\n",
    "            raise TypeError(error_msg)\n",
    "        elif error_msg:\n",
    "            print(error_msg)\n",
    "        else:\n",
    "            return func(*args, **kwargs)\n",
    "    \n",
    "    @adjunta_wrapper(wrapper)\n",
    "    def set_raise_exception(raise_exception_level):\n",
    "        nonlocal raise_exception\n",
    "        raise_exception = raise_exception_level\n",
    "        \n",
    "    return wrapper"
   ]
  },
  {
   "cell_type": "markdown",
   "metadata": {
    "slideshow": {
     "slide_type": "subslide"
    }
   },
   "source": [
    "# Code review time\n",
    "![caption](throw.gif)"
   ]
  },
  {
   "cell_type": "markdown",
   "metadata": {
    "slideshow": {
     "slide_type": "slide"
    }
   },
   "source": [
    "# Metaclasses\n",
    "![caption](magic.gif)"
   ]
  },
  {
   "cell_type": "code",
   "execution_count": 10,
   "metadata": {
    "collapsed": false,
    "slideshow": {
     "slide_type": "subslide"
    }
   },
   "outputs": [
    {
     "data": {
      "text/plain": [
       "__main__.Tomate"
      ]
     },
     "execution_count": 10,
     "metadata": {},
     "output_type": "execute_result"
    }
   ],
   "source": [
    "class Tomate:\n",
    "    pass\n",
    "\n",
    "tomate = Tomate()\n",
    "\n",
    "type(tomate)"
   ]
  },
  {
   "cell_type": "code",
   "execution_count": 11,
   "metadata": {
    "collapsed": false,
    "slideshow": {
     "slide_type": "fragment"
    }
   },
   "outputs": [
    {
     "data": {
      "text/plain": [
       "type"
      ]
     },
     "execution_count": 11,
     "metadata": {},
     "output_type": "execute_result"
    }
   ],
   "source": [
    "type(Tomate)"
   ]
  },
  {
   "cell_type": "code",
   "execution_count": 57,
   "metadata": {
    "collapsed": false,
    "slideshow": {
     "slide_type": "fragment"
    }
   },
   "outputs": [
    {
     "data": {
      "text/plain": [
       "type"
      ]
     },
     "execution_count": 57,
     "metadata": {},
     "output_type": "execute_result"
    }
   ],
   "source": [
    "# type(nombre, (bases), {contenido de la clase})\n",
    "Lechuga = type(\"Lechuga\", (), {})\n",
    "type(Lechuga)"
   ]
  },
  {
   "cell_type": "code",
   "execution_count": 23,
   "metadata": {
    "collapsed": false,
    "slideshow": {
     "slide_type": "fragment"
    }
   },
   "outputs": [
    {
     "data": {
      "text/plain": [
       "__main__.Lechuga"
      ]
     },
     "execution_count": 23,
     "metadata": {},
     "output_type": "execute_result"
    }
   ],
   "source": [
    "lechuga = Lechuga()\n",
    "type(lechuga)"
   ]
  },
  {
   "cell_type": "code",
   "execution_count": 3,
   "metadata": {
    "collapsed": false,
    "slideshow": {
     "slide_type": "fragment"
    }
   },
   "outputs": [
    {
     "data": {
      "text/plain": [
       "type"
      ]
     },
     "execution_count": 3,
     "metadata": {},
     "output_type": "execute_result"
    }
   ],
   "source": [
    "type(type)"
   ]
  },
  {
   "cell_type": "code",
   "execution_count": 56,
   "metadata": {
    "collapsed": false,
    "slideshow": {
     "slide_type": "subslide"
    }
   },
   "outputs": [
    {
     "name": "stdout",
     "output_type": "stream",
     "text": [
      "hola\n"
     ]
    }
   ],
   "source": [
    "codigo = \"\"\"\n",
    "a = 10\n",
    "def saluda(self):\n",
    "    print(\"hola\")\n",
    "\"\"\"\n",
    "dict_clase = {}\n",
    "exec(codigo, dict_clase)\n",
    "\n",
    "MiClase = type(\"MiClase\", (), dict_clase)\n",
    "\n",
    "mi_clase = MiClase()\n",
    "mi_clase.saluda()"
   ]
  },
  {
   "cell_type": "markdown",
   "metadata": {
    "slideshow": {
     "slide_type": "subslide"
    }
   },
   "source": [
    "# Metaclasses\n",
    "\n",
    "* **Las Metaclasses son las clases de las clases**\n",
    "* **Heredan de type**\n",
    "* **Controlan como la clase se prepara/crea/llama**\n",
    "* **MetaClase : Clase = Clase : Instancia**\n",
    "* **type(Instancia) = Clase**\n",
    "* **type(Clase) = MetaClase / type**\n",
    "* **type(MetaClase) = type**"
   ]
  },
  {
   "cell_type": "code",
   "execution_count": 13,
   "metadata": {
    "collapsed": false,
    "slideshow": {
     "slide_type": "subslide"
    }
   },
   "outputs": [
    {
     "data": {
      "text/plain": [
       "__main__.Tomate"
      ]
     },
     "execution_count": 13,
     "metadata": {},
     "output_type": "execute_result"
    }
   ],
   "source": [
    "class MiMeta(type):\n",
    "    pass\n",
    "\n",
    "class Tomate(metaclass=MiMeta):\n",
    "    pass\n",
    "\n",
    "tomate = Tomate()\n",
    "type(tomate)"
   ]
  },
  {
   "cell_type": "code",
   "execution_count": 14,
   "metadata": {
    "collapsed": false,
    "slideshow": {
     "slide_type": "fragment"
    }
   },
   "outputs": [
    {
     "data": {
      "text/plain": [
       "__main__.MiMeta"
      ]
     },
     "execution_count": 14,
     "metadata": {},
     "output_type": "execute_result"
    }
   ],
   "source": [
    "type(Tomate)"
   ]
  },
  {
   "cell_type": "code",
   "execution_count": 15,
   "metadata": {
    "collapsed": false,
    "slideshow": {
     "slide_type": "fragment"
    }
   },
   "outputs": [
    {
     "data": {
      "text/plain": [
       "type"
      ]
     },
     "execution_count": 15,
     "metadata": {},
     "output_type": "execute_result"
    }
   ],
   "source": [
    "type(MiMeta)"
   ]
  },
  {
   "cell_type": "markdown",
   "metadata": {
    "slideshow": {
     "slide_type": "subslide"
    }
   },
   "source": [
    "# Magic Methods - Creación de una instancia\n",
    "\n",
    "![caption](instance-creation.png)\n",
    "\n",
    "Imagen de: http://blog.ionelmc.ro/2015/02/09/understanding-python-metaclasses/"
   ]
  },
  {
   "cell_type": "code",
   "execution_count": null,
   "metadata": {
    "collapsed": true,
    "slideshow": {
     "slide_type": "fragment"
    }
   },
   "outputs": [],
   "source": [
    "tomate = Tomate()"
   ]
  },
  {
   "cell_type": "markdown",
   "metadata": {
    "slideshow": {
     "slide_type": "subslide"
    }
   },
   "source": [
    "# Magic Methods - Creación de una clase\n",
    "\n",
    "![caption](class-creation.png)\n",
    "\n",
    "Imagen de: http://blog.ionelmc.ro/2015/02/09/understanding-python-metaclasses/"
   ]
  },
  {
   "cell_type": "code",
   "execution_count": 24,
   "metadata": {
    "collapsed": true,
    "slideshow": {
     "slide_type": "fragment"
    }
   },
   "outputs": [],
   "source": [
    "class Lechuga(metaclass=MiMeta):\n",
    "    pass"
   ]
  },
  {
   "cell_type": "markdown",
   "metadata": {
    "slideshow": {
     "slide_type": "subslide"
    }
   },
   "source": [
    "# Ejemplo: Orden en la definición de las clases"
   ]
  },
  {
   "cell_type": "code",
   "execution_count": 25,
   "metadata": {
    "collapsed": true,
    "slideshow": {
     "slide_type": "subslide"
    }
   },
   "outputs": [],
   "source": [
    "class Buena:\n",
    "    a = 0\n",
    "    def funcion(self, var):\n",
    "        pass\n",
    "    \n",
    "class Mala:\n",
    "    def funcion(self, var):\n",
    "        pass\n",
    "    a = 0"
   ]
  },
  {
   "cell_type": "code",
   "execution_count": 40,
   "metadata": {
    "collapsed": false,
    "slideshow": {
     "slide_type": "subslide"
    }
   },
   "outputs": [
    {
     "name": "stdout",
     "output_type": "stream",
     "text": [
      "atributos=[__qualname__, a, funcion, __module__])\n"
     ]
    }
   ],
   "source": [
    "class Ordenada(type):\n",
    "    def __init__(cls, name, bases, attrs, **kwargs):\n",
    "        print('atributos=[%s])' % (', '.join(attrs)))\n",
    "        return super().__init__(name, bases, attrs)\n",
    "\n",
    "class Buena(metaclass=Ordenada):\n",
    "    a = 0\n",
    "    def funcion(self, var):\n",
    "        pass"
   ]
  },
  {
   "cell_type": "code",
   "execution_count": 42,
   "metadata": {
    "collapsed": false,
    "slideshow": {
     "slide_type": "fragment"
    }
   },
   "outputs": [
    {
     "name": "stdout",
     "output_type": "stream",
     "text": [
      "atributos=[__qualname__, a, funcion, __module__])\n"
     ]
    }
   ],
   "source": [
    "class Mala(metaclass=Ordenada):\n",
    "    def funcion(self, var):\n",
    "        pass\n",
    "    a = 0"
   ]
  },
  {
   "cell_type": "code",
   "execution_count": 47,
   "metadata": {
    "collapsed": false,
    "slideshow": {
     "slide_type": "subslide"
    }
   },
   "outputs": [
    {
     "name": "stdout",
     "output_type": "stream",
     "text": [
      "atributos=[__module__, __qualname__, a, funcion])\n"
     ]
    }
   ],
   "source": [
    "from collections import OrderedDict\n",
    "\n",
    "class Ordenada(type):\n",
    "    @classmethod\n",
    "    def __prepare__(metaclass, name, bases, **kwargs):\n",
    "        return OrderedDict()\n",
    "    def __init__(cls, name, bases, attrs, **kwargs):\n",
    "        print('atributos=[%s])' % (', '.join(attrs)))\n",
    "        return super().__init__(name, bases, attrs)\n",
    "\n",
    "class Buena(metaclass=Ordenada):\n",
    "    a = 0\n",
    "    def funcion(self, var):\n",
    "        pass"
   ]
  },
  {
   "cell_type": "code",
   "execution_count": 48,
   "metadata": {
    "collapsed": false,
    "slideshow": {
     "slide_type": "fragment"
    }
   },
   "outputs": [
    {
     "name": "stdout",
     "output_type": "stream",
     "text": [
      "atributos=[__module__, __qualname__, funcion, a])\n"
     ]
    }
   ],
   "source": [
    "class Mala(metaclass=Ordenada):\n",
    "    def funcion(self, var):\n",
    "        pass\n",
    "    a = 0"
   ]
  },
  {
   "cell_type": "code",
   "execution_count": 52,
   "metadata": {
    "collapsed": true,
    "slideshow": {
     "slide_type": "subslide"
    }
   },
   "outputs": [],
   "source": [
    "from collections import OrderedDict\n",
    "\n",
    "class Ordenada(type):\n",
    "    @classmethod\n",
    "    def __prepare__(metaclass, name, bases, **kwargs):\n",
    "        return OrderedDict()\n",
    "    def __init__(cls, name, bases, attrs, **kwargs):\n",
    "        first_function = False\n",
    "        for attribute in attrs:\n",
    "            if not str(attribute).startswith('__'):\n",
    "                my_attr = getattr(cls, attribute)\n",
    "                if not callable(my_attr) and first_function:\n",
    "                    raise SyntaxError (\"Functions must follow class attributes on class definition\")\n",
    "                elif callable(my_attr):\n",
    "                    first_function = True\n",
    "        return super().__init__(name, bases, attrs)"
   ]
  },
  {
   "cell_type": "code",
   "execution_count": 53,
   "metadata": {
    "collapsed": true,
    "slideshow": {
     "slide_type": "subslide"
    }
   },
   "outputs": [],
   "source": [
    "class Buena(metaclass=Ordenada):\n",
    "    a = 0\n",
    "    def funcion(self, var):\n",
    "        pass"
   ]
  },
  {
   "cell_type": "code",
   "execution_count": 58,
   "metadata": {
    "collapsed": false,
    "slideshow": {
     "slide_type": "fragment"
    }
   },
   "outputs": [
    {
     "ename": "SyntaxError",
     "evalue": "Functions must follow class attributes on class definition (<string>)",
     "output_type": "error",
     "traceback": [
      "\u001b[0;36m  File \u001b[0;32m\"<string>\"\u001b[0;36m, line \u001b[0;32munknown\u001b[0m\n\u001b[0;31mSyntaxError\u001b[0m\u001b[0;31m:\u001b[0m Functions must follow class attributes on class definition\n"
     ]
    }
   ],
   "source": [
    "class Mala(metaclass=Ordenada):\n",
    "    def funcion(self, var):\n",
    "        pass\n",
    "    a = 0"
   ]
  },
  {
   "cell_type": "markdown",
   "metadata": {
    "slideshow": {
     "slide_type": "slide"
    }
   },
   "source": [
    "# Fin\n",
    "* **Raúl Cumplido**\n",
    "* **@raulcumplido**\n",
    "* **Europython 2015 - Bilbao**"
   ]
  }
 ],
 "metadata": {
  "celltoolbar": "Slideshow",
  "kernelspec": {
   "display_name": "Python 3",
   "language": "python",
   "name": "python3"
  },
  "language_info": {
   "codemirror_mode": {
    "name": "ipython",
    "version": 3
   },
   "file_extension": ".py",
   "mimetype": "text/x-python",
   "name": "python",
   "nbconvert_exporter": "python",
   "pygments_lexer": "ipython3",
   "version": "3.4.2"
  }
 },
 "nbformat": 4,
 "nbformat_minor": 0
}
